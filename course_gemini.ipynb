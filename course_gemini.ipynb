{
  "nbformat": 4,
  "nbformat_minor": 0,
  "metadata": {
    "colab": {
      "provenance": [],
      "toc_visible": true,
      "authorship_tag": "ABX9TyPTwTp3XGlOjDxspfSZwXTL",
      "include_colab_link": true
    },
    "kernelspec": {
      "name": "python3",
      "display_name": "Python 3"
    },
    "language_info": {
      "name": "python"
    }
  },
  "cells": [
    {
      "cell_type": "markdown",
      "metadata": {
        "id": "view-in-github",
        "colab_type": "text"
      },
      "source": [
        "<a href=\"https://colab.research.google.com/github/Marcondezz/Course_GeminiIA/blob/main/course_gemini.ipynb\" target=\"_parent\"><img src=\"https://colab.research.google.com/assets/colab-badge.svg\" alt=\"Open In Colab\"/></a>"
      ]
    },
    {
      "cell_type": "code",
      "execution_count": 2,
      "metadata": {
        "id": "IZUKh7z8fE46"
      },
      "outputs": [],
      "source": [
        "!pip install -q -U google-generativeai"
      ]
    },
    {
      "cell_type": "code",
      "source": [
        "import google.generativeai as genai ##importando a IA GENERATIVE\n",
        "from google.colab import userdata ##IMPORTANDO USERDATA PARA ESCONDER O API KEY\n",
        "\n",
        "api_key = userdata.get('SECRET_KEY')\n",
        "genai.configure(api_key=api_key)"
      ],
      "metadata": {
        "id": "V4qX6epWjY_N"
      },
      "execution_count": 3,
      "outputs": []
    },
    {
      "cell_type": "code",
      "source": [
        "## FAZENDO O FOR COM A LISTA DE MODELOS\n",
        "for m in genai.list_models():\n",
        "  if 'generateContent' in m.supported_generation_methods:\n",
        "    print(m.name)"
      ],
      "metadata": {
        "colab": {
          "base_uri": "https://localhost:8080/",
          "height": 139
        },
        "id": "q25ZC8CpjrZL",
        "outputId": "6420293e-1a77-4925-f087-bdaac07971f7"
      },
      "execution_count": 4,
      "outputs": [
        {
          "output_type": "stream",
          "name": "stdout",
          "text": [
            "models/gemini-1.0-pro\n",
            "models/gemini-1.0-pro-001\n",
            "models/gemini-1.0-pro-latest\n",
            "models/gemini-1.0-pro-vision-latest\n",
            "models/gemini-1.5-pro-latest\n",
            "models/gemini-pro\n",
            "models/gemini-pro-vision\n"
          ]
        }
      ]
    },
    {
      "cell_type": "code",
      "source": [
        "##{O NOME PODE SER QUALQUER UM} - CONFIGURANDO TEMPERATURA ETC\n",
        "generation_config = {\n",
        "    \"candidate_count\": 1,\n",
        "    \"temperature\": 0.5,\n",
        "}"
      ],
      "metadata": {
        "id": "EFy4rzOZlyOi"
      },
      "execution_count": 5,
      "outputs": []
    },
    {
      "cell_type": "code",
      "source": [
        "## CONFIGURANDO FILTROS DE ÓDIO, COISAS SEXUAIS ETC\n",
        "safety_settings ={\n",
        "    \"HARASSMENT\": \"BLOCK_NONE\",\n",
        "    \"HATE\": \"BLOCK_NONE\",\n",
        "    \"SEXUAL\": \"BLOCK_NONE\",\n",
        "    \"DANGEROUS\": \"BLOCK_NONE\"\n",
        "}"
      ],
      "metadata": {
        "id": "grgy9GeAr6ed"
      },
      "execution_count": 6,
      "outputs": []
    },
    {
      "cell_type": "code",
      "source": [
        "## escolhendo o modelo que iremos usar, e usando os filtros criados\n",
        "model = genai.GenerativeModel(model_name=\"gemini-1.0-pro\",\n",
        "                              generation_config=generation_config,\n",
        "                              safety_settings=safety_settings)"
      ],
      "metadata": {
        "id": "sqotCnGSr66k"
      },
      "execution_count": 7,
      "outputs": []
    },
    {
      "cell_type": "code",
      "source": [
        "response = model.generate_content(\"vamso aprender conteudo sobre IA. Me dê sugestoes\")\n",
        "print(response.text)"
      ],
      "metadata": {
        "colab": {
          "base_uri": "https://localhost:8080/",
          "height": 714
        },
        "id": "ilfK6jsTk9Sr",
        "outputId": "302188ba-2cd0-470d-eafe-3166268d37d3"
      },
      "execution_count": 8,
      "outputs": [
        {
          "output_type": "stream",
          "name": "stdout",
          "text": [
            "**Cursos Online:**\n",
            "\n",
            "* **Coursera:**\n",
            "    * Aprendizado de Máquina (Universidade de Stanford)\n",
            "    * Inteligência Artificial (Universidade de Alberta)\n",
            "* **edX:**\n",
            "    * Ciência de Dados e Aprendizado de Máquina (MIT)\n",
            "    * Inteligência Artificial (Universidade de Helsinque)\n",
            "* **Udemy:**\n",
            "    * Curso Completo de Inteligência Artificial\n",
            "    * Aprendizado de Máquina e Redes Neurais\n",
            "\n",
            "**Livros:**\n",
            "\n",
            "* **Inteligência Artificial: Uma Abordagem Moderna** (Stuart Russell e Peter Norvig)\n",
            "* **Aprendizado de Máquina** (Ethem Alpaydin)\n",
            "* **Redes Neurais e Aprendizado Profundo** (Michael Nielsen)\n",
            "* **Introdução à Inteligência Artificial** (Philip C. Jackson Jr.)\n",
            "\n",
            "**Artigos de Pesquisa:**\n",
            "\n",
            "* **AlphaGo: Dominando o jogo de Go com redes neurais profundas** (Nature)\n",
            "* **Aprendizado por Reforço Profundo** (Nature)\n",
            "* **Processamento de Linguagem Natural com Transformers** (arXiv)\n",
            "* **Visão Computacional com Redes Neurais Convolucionais** (IEEE Transactions on Pattern Analysis and Machine Intelligence)\n",
            "\n",
            "**Canais do YouTube:**\n",
            "\n",
            "* **3Blue1Brown:** Vídeos animados explicando conceitos complexos de IA\n",
            "* **MIT OpenCourseWare:** Palestras de cursos de IA do MIT\n",
            "* **DeepMind:** Vídeos sobre pesquisas e aplicações de IA\n",
            "* **Yann LeCun:** Vídeos de palestras e entrevistas sobre IA\n",
            "\n",
            "**Podcasts:**\n",
            "\n",
            "* **The AI Podcast:** Entrevistas com especialistas em IA\n",
            "* **Machine Learning Podcast:** Discussões sobre aprendizado de máquina e IA\n",
            "* **Lex Fridman Podcast:** Entrevistas com pesquisadores e líderes de IA\n",
            "* **This Week in Machine Learning & AI:** Notícias e tendências em IA\n"
          ]
        }
      ]
    },
    {
      "cell_type": "code",
      "source": [
        "## INICIANDO O CHATBOT COM A API E CRIANDO LISTA PARA GUARDAR PERGUNTAS E RESPOSTAS\n",
        "chat = model.start_chat(history=[])"
      ],
      "metadata": {
        "id": "xyc7WMvfl7Un"
      },
      "execution_count": 9,
      "outputs": []
    },
    {
      "cell_type": "code",
      "source": [
        "prompt = input(\"Esperando prompt:\")\n",
        "\n",
        "while prompt != \"fim\":\n",
        "  response = chat.send_message(prompt)\n",
        "  print(\"Resposta: \", response.text, \"\\n\")\n",
        "  prompt = input(\"Esperando prompt:\")"
      ],
      "metadata": {
        "colab": {
          "base_uri": "https://localhost:8080/",
          "height": 243
        },
        "id": "HEPDc5WAmOQ7",
        "outputId": "01974ac2-9835-4919-9e52-454ab262dce6"
      },
      "execution_count": 12,
      "outputs": [
        {
          "name": "stdout",
          "output_type": "stream",
          "text": [
            "Esperando prompt:Qual a capital do Japão?\n",
            "Resposta:  Tóquio \n",
            "\n",
            "Esperando prompt:Qual é a comida típica desse país?\n",
            "Resposta:  Sushi \n",
            "\n",
            "Esperando prompt:qual é a população dessa cidade?\n",
            "Resposta:  Tóquio: 13.960.344 (2023) \n",
            "\n",
            "Esperando prompt:fim \n",
            "Resposta:  Obrigado por jogar! \n",
            "\n",
            "Esperando prompt:fim\n"
          ]
        }
      ]
    },
    {
      "cell_type": "code",
      "source": [
        "chat.history"
      ],
      "metadata": {
        "colab": {
          "base_uri": "https://localhost:8080/"
        },
        "id": "5D6UjMt2o7Vn",
        "outputId": "c2086bf8-4c7f-452f-81c2-bee4a30e9e3c"
      },
      "execution_count": 13,
      "outputs": [
        {
          "output_type": "execute_result",
          "data": {
            "text/plain": [
              "[parts {\n",
              "   text: \"Qual a capital do Jap\\303\\243o?\"\n",
              " }\n",
              " role: \"user\",\n",
              " parts {\n",
              "   text: \"T\\303\\263quio\"\n",
              " }\n",
              " role: \"model\",\n",
              " parts {\n",
              "   text: \"Qual \\303\\251 a comida t\\303\\255pica desse pa\\303\\255s?\"\n",
              " }\n",
              " role: \"user\",\n",
              " parts {\n",
              "   text: \"Sushi\"\n",
              " }\n",
              " role: \"model\",\n",
              " parts {\n",
              "   text: \"qual \\303\\251 a popula\\303\\247\\303\\243o dessa cidade?\"\n",
              " }\n",
              " role: \"user\",\n",
              " parts {\n",
              "   text: \"T\\303\\263quio: 13.960.344 (2023)\"\n",
              " }\n",
              " role: \"model\",\n",
              " parts {\n",
              "   text: \"fim \"\n",
              " }\n",
              " role: \"user\",\n",
              " parts {\n",
              "   text: \"Obrigado por jogar!\"\n",
              " }\n",
              " role: \"model\"]"
            ]
          },
          "metadata": {},
          "execution_count": 13
        }
      ]
    },
    {
      "cell_type": "code",
      "source": [],
      "metadata": {
        "id": "QdxFarH3pB9H"
      },
      "execution_count": null,
      "outputs": []
    }
  ]
}